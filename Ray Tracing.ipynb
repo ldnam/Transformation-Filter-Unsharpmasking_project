{
 "cells": [
  {
   "cell_type": "code",
   "execution_count": 1,
   "metadata": {},
   "outputs": [],
   "source": [
    "from PIL import Image\n",
    "from functools import reduce\n",
    "import numpy as np\n",
    "import time\n",
    "import os\n",
    "\n",
    "class vec3():\n",
    "    def __init__(self, x, y, z):\n",
    "        (self.x, self.y, self.z) = (x, y, z)\n",
    "    def __mul__(self, other):\n",
    "        return vec3(self.x * other, self.y * other, self.z * other)\n",
    "    def __add__(self, other):\n",
    "        return vec3(self.x + other.x, self.y + other.y, self.z + other.z)\n",
    "    def __sub__(self, other):\n",
    "        return vec3(self.x - other.x, self.y - other.y, self.z - other.z)\n",
    "    def dot(self, other):\n",
    "        return (self.x * other.x) + (self.y * other.y) + (self.z * other.z)\n",
    "    def __abs__(self):\n",
    "        return self.dot(self)\n",
    "    def norm(self):\n",
    "        mag = np.sqrt(abs(self))\n",
    "        return self * (1.0 / np.where(mag == 0, 1, mag))\n",
    "    def components(self):\n",
    "        return (self.x, self.y, self.z)\n"
   ]
  },
  {
   "cell_type": "code",
   "execution_count": 2,
   "metadata": {},
   "outputs": [],
   "source": [
    "rgb = vec3\n",
    "\n",
    "(w, h) = (400, 300)         # Screen size\n",
    "L = vec3(3, 8., -10)        # Point light position\n",
    "E = vec3(0., 0.8, -1.)     # Eye position\n",
    "FARAWAY = 1.0e39            # an implausibly huge distance\n",
    "\n",
    "def raytrace(O, D, scene, bounce = 0):\n",
    "    # O is the ray origin, D is the normalized ray direction\n",
    "    # scene is a list of Sphere objects (see below)\n",
    "    # bounce is the number of the bounce, starting at zero for camera rays\n",
    "\n",
    "    distances = [s.intersect(O, D) for s in scene]\n",
    "    nearest = reduce(np.minimum, distances)\n",
    "    color = rgb(0, 0, 0)\n",
    "    for (s, d) in zip(scene, distances):\n",
    "        color += s.light(O, D, d, scene, bounce) * (nearest != FARAWAY) * (d == nearest)\n",
    "    return color"
   ]
  },
  {
   "cell_type": "code",
   "execution_count": 3,
   "metadata": {},
   "outputs": [],
   "source": [
    "class Sphere:\n",
    "    def __init__(self, center, r, diffuse, mirror = 0.5):\n",
    "        self.c = center\n",
    "        self.r = r\n",
    "        self.diffuse = diffuse\n",
    "        self.mirror = mirror\n",
    "\n",
    "    def intersect(self, O, D):\n",
    "        b = 2 * D.dot(O - self.c)\n",
    "        c = abs(self.c) + abs(O) - 2 * self.c.dot(O) - (self.r * self.r)\n",
    "        disc = (b ** 2) - (4 * c)\n",
    "        sq = np.sqrt(np.maximum(0, disc))\n",
    "        h0 = (-b - sq) / 2\n",
    "        h1 = (-b + sq) / 2\n",
    "        h = np.where((h0 > 0) & (h0 < h1), h0, h1)\n",
    "\n",
    "        pred = (disc > 0) & (h > 0)\n",
    "        return np.where(pred, h, FARAWAY)\n",
    "\n",
    "    def diffusecolor(self, M):\n",
    "        return self.diffuse\n",
    "\n",
    "    def light(self, O, D, d, scene, bounce):\n",
    "        M = (O + D * d)                         # intersection point\n",
    "        N = (M - self.c) * (1. / self.r)        # normal\n",
    "        toL = (L - M).norm()                    # direction to light\n",
    "        toO = (E - M).norm()                    # direction to ray origin\n",
    "        nudged = M + N * .0001                  # M nudged to avoid itself\n",
    "\n",
    "        # Shadow: find if the point is shadowed or not.\n",
    "        light_distances = [s.intersect(nudged, toL) for s in scene]\n",
    "        light_nearest = reduce(np.minimum, light_distances)\n",
    "        seelight = light_distances[scene.index(self)] == light_nearest\n",
    "\n",
    "        # Ambient\n",
    "        color = rgb(0.05, 0.05, 0.05)\n",
    "\n",
    "        # Lambert shading (diffuse)\n",
    "        lv = np.maximum(N.dot(toL), 0)\n",
    "        color += self.diffusecolor(M) * lv * seelight\n",
    "\n",
    "        # Reflection\n",
    "        if bounce < 2:\n",
    "            rayD = (D - N * 2 * D.dot(N)).norm()\n",
    "            color += raytrace(nudged, rayD, scene, bounce + 1) * self.mirror\n",
    "\n",
    "        # Blinn-Phong shading (specular)\n",
    "        phong = N.dot((toL + toO).norm())\n",
    "        color += rgb(1, 1, 1) * np.power(np.clip(phong, 0, 1), 50) * seelight\n",
    "        return color\n",
    "\n",
    "class CheckeredSphere(Sphere):\n",
    "    def diffusecolor(self, M):\n",
    "        checker = ((M.x * 2).astype(int) % 2) == ((M.z * 2).astype(int) % 2)\n",
    "        return self.diffuse * checker"
   ]
  },
  {
   "cell_type": "code",
   "execution_count": 4,
   "metadata": {},
   "outputs": [
    {
     "name": "stdout",
     "output_type": "stream",
     "text": [
      "Took 10.597589015960693\n"
     ]
    }
   ],
   "source": [
    "scene = [\n",
    "    Sphere(vec3(.75, .1, 1.), .6, rgb(.7, .6, 1)),\n",
    "    Sphere(vec3(-.75, .1, 2.25), .6, rgb(.8, .9, .5)),\n",
    "    Sphere(vec3(-2.75, .1, 3.5), .6, rgb(.252, .634, .114)),\n",
    "    CheckeredSphere(vec3(0,-99999.5, 0), 99999, rgb(.75, .75, .75), 0.25),\n",
    "    ]\n",
    "\n",
    "r = float(w) / h\n",
    "# Screen coordinates: x0, y0, x1, y1.\n",
    "S = (-1., 1. / r + .25, 1., -1. / r + .25)\n",
    "x = np.tile(np.linspace(S[0], S[2], w), h)\n",
    "y = np.repeat(np.linspace(S[1], S[3], h), w)\n",
    "\n",
    "t0 = time.time()\n",
    "Q = vec3(x, y, 0)\n",
    "color = raytrace(E, (Q - E).norm(), scene)\n",
    "print(\"Took\", time.time() - t0)\n",
    "\n",
    "rgb = [Image.fromarray((255 * np.clip(c, 0, 1).reshape((h, w))).astype(np.uint8), \"L\") for c in color.components()]\n",
    "Image.merge(\"RGB\", rgb).save(os.path.join(\"out-images\", \"raytracing.png\"))"
   ]
  },
  {
   "cell_type": "code",
   "execution_count": null,
   "metadata": {},
   "outputs": [],
   "source": []
  }
 ],
 "metadata": {
  "kernelspec": {
   "display_name": "Python 3",
   "language": "python",
   "name": "python3"
  },
  "language_info": {
   "codemirror_mode": {
    "name": "ipython",
    "version": 3
   },
   "file_extension": ".py",
   "mimetype": "text/x-python",
   "name": "python",
   "nbconvert_exporter": "python",
   "pygments_lexer": "ipython3",
   "version": "3.7.6"
  }
 },
 "nbformat": 4,
 "nbformat_minor": 4
}
